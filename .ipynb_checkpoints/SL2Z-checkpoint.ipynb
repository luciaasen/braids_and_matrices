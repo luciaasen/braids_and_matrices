{
 "cells": [
  {
   "cell_type": "code",
   "execution_count": 1,
   "metadata": {
    "collapsed": false
   },
   "outputs": [],
   "source": [
    "import numpy as np\n",
    "from numpy import linalg as LA\n",
    "\n",
    "M = []\n",
    "M.append(np.array(np.mat('1 1; 0 1'))) # x\n",
    "M.append(np.array(np.mat('1 0; 1 1'))) # y\n",
    "M.append(np.array(np.mat('1 -1; 0 1'))) # x-1\n",
    "M.append(np.array(np.mat('1 0; -1 1'))) # y-1\n",
    "F = []\n",
    "F.append(np.array(np.mat('1 2; 0 1'))) # x\n",
    "F.append(np.array(np.mat('1 0; 2 1'))) # y\n",
    "F.append(np.array(np.mat('1 -2; 0 1'))) # x-1\n",
    "F.append(np.array(np.mat('1 0; -2 1'))) # y-1\n",
    "\n",
    "# Devuelve la lista de digitos de num en base,\n",
    "# y la completa con ceros a la dcha hasta que\n",
    "# tenga longitud length\n",
    "# A la dcha xq digits te devuelve la lista al reves\n",
    "def extended_digits(num, base, length):\n",
    "    dig = num.digits(base = 4)\n",
    "    dig_len = len(dig)\n",
    "    if dig_len != length:\n",
    "        # Completamos con ceros a la dcha\n",
    "        padding = [0]*(length - dig_len)\n",
    "        dig = dig + padding\n",
    "    return dig\n",
    "\n",
    "# Manera menos elegante del mundo de hacer remove\n",
    "# de x*x^-1 y de y*y^-1\n",
    "def remove_sub2(word, sublist):\n",
    "    for i in range(len(word)-1):\n",
    "        if word[i:i+2] == sublist:\n",
    "            word = word[:i] + word[i+2:]\n",
    "    return word      \n",
    "\n",
    "# Quita los x*x^-1, y*y^-1, x^-1*x, y^-1*y de la palabra \n",
    "def reduce_w(word):\n",
    "    word = remove_sub2(word, [0,2])\n",
    "    word = remove_sub2(word, [2,0])\n",
    "    word = remove_sub2(word, [1,3])\n",
    "    word = remove_sub2(word, [3,1])\n",
    "    return word\n",
    "\n",
    "\n",
    "#Encuentra la matriz -1 en palabras de longitud length\n",
    "def finder(length, goal = np.array(np.mat('-1 0; 0 -1'))):\n",
    "    results = []\n",
    "    for i in srange(4^length):\n",
    "        mult = np.array(np.mat('1 0; 0 1'))\n",
    "        b4_digits = extended_digits(i, 4, length)\n",
    "        for digit in b4_digits:\n",
    "            mult = np.matmul(mult, M[digit])\n",
    "        if np.array_equal(mult, goal):\n",
    "            results.append(b4_digits)\n",
    "    return results\n",
    "\n",
    "# Esta cosa de aqui es útil porque, dada una ristra de palabras,\n",
    "# Te devuelve las palabras que, al quitarle los x*x-1, no han quedado\n",
    "# con la longitud size-antiguas (o sea, que no son repes)\n",
    "def nuevas_de_verdad(words, size_antiguas):\n",
    "    reduced = [reduce_w(word) for word in words]\n",
    "    reduced_n = [] # Metemos aqui los -1 que no son de longitud 6\n",
    "    for word in reduced:\n",
    "        if len(word) != size_antiguas:\n",
    "            reduced_n.append(word)\n",
    "    return reduced_n\n",
    "\n",
    "def produce(length, gens = F, num_gens = 4):\n",
    "    results = []\n",
    "    for i in srange(num_gens^length):\n",
    "        mult = np.array(np.mat('1 0; 0 1'))\n",
    "        b4_digits = extended_digits(i, num_gens, length)\n",
    "        for digit in b4_digits:\n",
    "            mult = np.matmul(mult, gens[digit])\n",
    "        results.append(mult)\n",
    "    return results\n",
    "\n",
    "\n",
    "\n",
    "def not_in(elem, lista):\n",
    "    for elem2 in lista:\n",
    "        if elem[0][0] == elem2[0][0] and elem[0][1] == elem2[0][1] and elem[1][0] == elem2[1][0] and elem[1][1] == elem2[1][1]:\n",
    "            return False\n",
    "    return True\n",
    "\n",
    "def elim_dups(lista):\n",
    "    final = []\n",
    "    for elem in lista:\n",
    "        if not_in(elem, final):\n",
    "            final.append(elem)\n",
    "    return final\n",
    "\n",
    "def mod(lst, modulo=4):\n",
    "    return [elem%modulo for elem in lst]\n",
    "\n",
    "def mi_forma_bonita(mat):\n",
    "    boolean = (mat[0][0]%4 == 1) and (mat[1][1]%4 == 1)\n",
    "    boolean = boolean and (mat[0][1]%2 == 0) and (mat[1][0]%2 == 0)\n",
    "    return boolean"
   ]
  },
  {
   "cell_type": "code",
   "execution_count": 2,
   "metadata": {
    "collapsed": false
   },
   "outputs": [],
   "source": [
    "l = finder(6) #6 es la length minima donde aparece el -1\n"
   ]
  },
  {
   "cell_type": "code",
   "execution_count": 4,
   "metadata": {
    "collapsed": false
   },
   "outputs": [],
   "source": [
    "a8 = finder(8)   \n",
    "a_reduced_8 = nuevas_de_verdad(a8, 6)"
   ]
  },
  {
   "cell_type": "code",
   "execution_count": 5,
   "metadata": {
    "collapsed": false
   },
   "outputs": [],
   "source": [
    "# Investigando saca de a_reduced_8 las palabras que son conjugadas de un generador o de su inverso:\n",
    "# gen*algo*gen^-1\n",
    "# Resulta que 'algo' es las cosas bonitas de tamanio 6 que son -1 (los elementos de l)\n",
    "# Y que no es casualidad: gen*bonito*gen^-1 = gen*-1*gen^-1 = -1 xq -1 esta en el centro!\n",
    "\n",
    "investigando = []\n",
    "for word in a_reduced_8:\n",
    "    if (word[0] == 0 and word[-1] == 2) or (word[0] == 2 and word[-1] == 0):\n",
    "        investigando.append(word)\n",
    "    if (word[0] == 1 and word[-1] == 3) or (word[0] == 3 and word[-1] == 1):\n",
    "        investigando.append(word)\n",
    "#len(investigando), investigando  "
   ]
  },
  {
   "cell_type": "code",
   "execution_count": 46,
   "metadata": {
    "collapsed": false
   },
   "outputs": [
    {
     "data": {
      "text/plain": [
       "32"
      ]
     },
     "execution_count": 46,
     "metadata": {},
     "output_type": "execute_result"
    }
   ],
   "source": [
    "# Aqui meto todas las demas (las que no son conjugadas)\n",
    "lasquequedan = [word for word in a_reduced_8 if word not in investigando]\n",
    "len(lasquequedan)"
   ]
  },
  {
   "cell_type": "code",
   "execution_count": 47,
   "metadata": {
    "collapsed": false
   },
   "outputs": [
    {
     "data": {
      "text/plain": [
       "[[0, 3, 0, 1, 0, 3, 0, 0],\n",
       " [0, 0, 3, 0, 1, 0, 3, 0],\n",
       " [1, 2, 1, 0, 1, 2, 1, 1],\n",
       " [1, 1, 2, 1, 0, 1, 2, 1],\n",
       " [2, 2, 1, 2, 3, 2, 1, 2],\n",
       " [2, 1, 2, 3, 2, 1, 2, 2],\n",
       " [3, 3, 0, 3, 2, 3, 0, 3],\n",
       " [3, 0, 3, 2, 3, 0, 3, 3]]"
      ]
     },
     "execution_count": 47,
     "metadata": {},
     "output_type": "execute_result"
    }
   ],
   "source": [
    "# De las que quedan, meto aqui las que empiezan y acaban por el mismo generador \n",
    "# (Son una cosa, y la misma cosa dada la vuelta!!)\n",
    "[word for word in lasquequedan if word[0] == word[-1]]"
   ]
  },
  {
   "cell_type": "code",
   "execution_count": 44,
   "metadata": {
    "collapsed": false
   },
   "outputs": [
    {
     "data": {
      "text/plain": [
       "[[0, 0, 0, 3, 0, 1, 0, 3],\n",
       " [0, 1, 0, 3, 0, 0, 0, 3],\n",
       " [0, 1, 2, 1, 1, 1, 2, 1],\n",
       " [0, 3, 0, 0, 0, 3, 0, 1],\n",
       " [0, 3, 2, 3, 0, 3, 3, 3],\n",
       " [0, 3, 3, 3, 0, 3, 2, 3],\n",
       " [1, 0, 1, 2, 1, 1, 1, 2],\n",
       " [1, 0, 3, 0, 0, 0, 3, 0],\n",
       " [1, 1, 1, 2, 1, 0, 1, 2],\n",
       " [1, 2, 1, 1, 1, 2, 1, 0],\n",
       " [1, 2, 2, 2, 1, 2, 3, 2],\n",
       " [1, 2, 3, 2, 1, 2, 2, 2],\n",
       " [2, 1, 0, 1, 2, 1, 1, 1],\n",
       " [2, 1, 1, 1, 2, 1, 0, 1],\n",
       " [2, 1, 2, 2, 2, 1, 2, 3],\n",
       " [2, 2, 2, 1, 2, 3, 2, 1],\n",
       " [2, 3, 0, 3, 3, 3, 0, 3],\n",
       " [2, 3, 2, 1, 2, 2, 2, 1],\n",
       " [3, 0, 0, 0, 3, 0, 1, 0],\n",
       " [3, 0, 1, 0, 3, 0, 0, 0],\n",
       " [3, 0, 3, 3, 3, 0, 3, 2],\n",
       " [3, 2, 1, 2, 2, 2, 1, 2],\n",
       " [3, 2, 3, 0, 3, 3, 3, 0],\n",
       " [3, 3, 3, 0, 3, 2, 3, 0]]"
      ]
     },
     "execution_count": 44,
     "metadata": {},
     "output_type": "execute_result"
    }
   ],
   "source": [
    "# Y aqui todo lo demas\n",
    "# Hay algunas que estan dadas la vuelta, y otras que mantienen los endpoints e invierten el orden de los 3 pares internos\n",
    "# Veanse los 2 primeros elementos\n",
    "#      0  00 30 10  3\n",
    "#      0  10 30 00  3\n",
    "sorted([word1 for word1 in lasquequedan if word1 not in [word for word in lasquequedan if word[0] == word[-1]]])        "
   ]
  },
  {
   "cell_type": "code",
   "execution_count": 8,
   "metadata": {
    "collapsed": false
   },
   "outputs": [
    {
     "name": "stdout",
     "output_type": "stream",
     "text": [
      "done3\n"
     ]
    }
   ],
   "source": [
    "# res1 tiene las libres\n",
    "res1 = []\n",
    "for i in range(8):\n",
    "    aux = produce(i)\n",
    "    for mat in aux:\n",
    "        res1.append(mat)\n",
    "res1 = elim_dups(res1)\n",
    "\n",
    "# res2 tiene todas\n",
    "res2 = []\n",
    "for i in range(10):\n",
    "    aux = produce(i, gens = M)\n",
    "    for mat in aux:\n",
    "        res2.append(mat)\n",
    "res2 = elim_dups(res2)\n",
    "print 'done3'"
   ]
  },
  {
   "cell_type": "code",
   "execution_count": null,
   "metadata": {
    "collapsed": true
   },
   "outputs": [],
   "source": [
    "not_free = []\n",
    "for mat in res2:\n",
    "    if not_in(mat, res1):\n",
    "        not_free.append(mat)\n",
    "print 'done4' # not_free tiene las no libres\n",
    "\n",
    "not_free = elim_dups(not_free)\n"
   ]
  },
  {
   "cell_type": "code",
   "execution_count": 16,
   "metadata": {
    "collapsed": false
   },
   "outputs": [],
   "source": [
    "f = open('libres_mod_4', 'w')\n",
    "string = ''\n",
    "for mat in res1:\n",
    "    if mi_forma_bonita(mat) == False:\n",
    "        print 'Eres idiota2'\n",
    "    string += str(mod(mat[0], 4)) + '\\t\\t\\t' + str(mat[0]) + '\\n'\n",
    "    string += str(mod(mat[1], 4)) + '\\t\\t\\t' + str(mat[1]) + '\\n\\n'\n",
    "\n",
    "f.write(string)\n",
    "f.close()\n",
    "\n",
    "# Parece q si eres libre, no puedes ser 3 modulo 4!\n",
    "\n",
    "f = open('no_libres_mod_4', 'w')\n",
    "string = ''\n",
    "for mat in not_free:\n",
    "    if mi_forma_bonita(mat) == True:\n",
    "        print 'Eres idiota'\n",
    "    string += str(mod(mat[0], 4)) + '\\t\\t\\t' + str(mat[0]) + '\\n'\n",
    "    string += str(mod(mat[1], 4)) + '\\t\\t\\t' + str(mat[1]) + '\\n\\n'\n",
    "\n",
    "f.write(string)\n",
    "f.close()\n",
    "\n",
    "# No es suficiente.\n",
    "# Lloro un pelin na mas\n",
    "# A lo mejor si q es suficiente! \n",
    "# No entiendo muy bien xq, pero mirando libres de longitud 6, pa mi q estaba\n",
    "# mirando matrices de longitud 12 y por tanto ya habia cubierto las de \n",
    "# longitud 10, pero parece q no.\n",
    "# Las normales de longitud 10 que no tenian ningun 3 en su modulo y no estaban\n",
    "# dentro de las libres de longitud 6, si estan dentro de las libres\n",
    "# de longitud 7. wtf"
   ]
  },
  {
   "cell_type": "code",
   "execution_count": 10,
   "metadata": {
    "collapsed": true
   },
   "outputs": [],
   "source": [
    "modulos = []\n",
    "\n",
    "for mat in res2:\n",
    "    modulos.append(np.array(np.mat('1 1; 0 1')))\n",
    "    "
   ]
  },
  {
   "cell_type": "code",
   "execution_count": 12,
   "metadata": {
    "collapsed": false
   },
   "outputs": [
    {
     "ename": "TypeError",
     "evalue": "X (=1) must be a Set",
     "output_type": "error",
     "traceback": [
      "\u001b[0;31m---------------------------------------------------------------------------\u001b[0m",
      "\u001b[0;31mTypeError\u001b[0m                                 Traceback (most recent call last)",
      "\u001b[0;32m<ipython-input-12-46c3c0f821a4>\u001b[0m in \u001b[0;36m<module>\u001b[0;34m()\u001b[0m\n\u001b[0;32m----> 1\u001b[0;31m \u001b[0mx\u001b[0m \u001b[0;34m+=\u001b[0m \u001b[0mInteger\u001b[0m\u001b[0;34m(\u001b[0m\u001b[0;36m1\u001b[0m\u001b[0;34m)\u001b[0m\u001b[0;34m\u001b[0m\u001b[0m\n\u001b[0m",
      "\u001b[0;32m/usr/lib/sagemath/local/lib/python2.7/site-packages/sage/sets/set.pyc\u001b[0m in \u001b[0;36m__add__\u001b[0;34m(self, X)\u001b[0m\n\u001b[1;32m    426\u001b[0m             \u001b[0;34m{\u001b[0m\u001b[0;36m0\u001b[0m\u001b[0;34m,\u001b[0m \u001b[0;36m1\u001b[0m\u001b[0;34m,\u001b[0m \u001b[0mb\u001b[0m\u001b[0;34m,\u001b[0m \u001b[0mb\u001b[0m \u001b[0;34m+\u001b[0m \u001b[0;36m1\u001b[0m\u001b[0;34m,\u001b[0m \u001b[0mb\u001b[0m\u001b[0;34m^\u001b[0m\u001b[0;36m2\u001b[0m\u001b[0;34m,\u001b[0m \u001b[0mb\u001b[0m\u001b[0;34m^\u001b[0m\u001b[0;36m2\u001b[0m \u001b[0;34m+\u001b[0m \u001b[0;36m1\u001b[0m\u001b[0;34m,\u001b[0m \u001b[0mb\u001b[0m\u001b[0;34m^\u001b[0m\u001b[0;36m2\u001b[0m \u001b[0;34m+\u001b[0m \u001b[0mb\u001b[0m\u001b[0;34m,\u001b[0m \u001b[0mb\u001b[0m\u001b[0;34m^\u001b[0m\u001b[0;36m2\u001b[0m \u001b[0;34m+\u001b[0m \u001b[0mb\u001b[0m \u001b[0;34m+\u001b[0m \u001b[0;36m1\u001b[0m\u001b[0;34m,\u001b[0m \u001b[0ma\u001b[0m\u001b[0;34m,\u001b[0m \u001b[0ma\u001b[0m \u001b[0;34m+\u001b[0m \u001b[0;36m1\u001b[0m\u001b[0;34m,\u001b[0m \u001b[0;36m1\u001b[0m\u001b[0;34m,\u001b[0m \u001b[0;36m0\u001b[0m\u001b[0;34m}\u001b[0m\u001b[0;34m\u001b[0m\u001b[0m\n\u001b[1;32m    427\u001b[0m         \"\"\"\n\u001b[0;32m--> 428\u001b[0;31m         \u001b[0;32mreturn\u001b[0m \u001b[0mself\u001b[0m\u001b[0;34m.\u001b[0m\u001b[0munion\u001b[0m\u001b[0;34m(\u001b[0m\u001b[0mX\u001b[0m\u001b[0;34m)\u001b[0m\u001b[0;34m\u001b[0m\u001b[0m\n\u001b[0m\u001b[1;32m    429\u001b[0m \u001b[0;34m\u001b[0m\u001b[0m\n\u001b[1;32m    430\u001b[0m     \u001b[0;32mdef\u001b[0m \u001b[0m__or__\u001b[0m\u001b[0;34m(\u001b[0m\u001b[0mself\u001b[0m\u001b[0;34m,\u001b[0m \u001b[0mX\u001b[0m\u001b[0;34m)\u001b[0m\u001b[0;34m:\u001b[0m\u001b[0;34m\u001b[0m\u001b[0m\n",
      "\u001b[0;32m/usr/lib/sagemath/local/lib/python2.7/site-packages/sage/sets/set.pyc\u001b[0m in \u001b[0;36munion\u001b[0;34m(self, other)\u001b[0m\n\u001b[1;32m    970\u001b[0m         \"\"\"\n\u001b[1;32m    971\u001b[0m         \u001b[0;32mif\u001b[0m \u001b[0;32mnot\u001b[0m \u001b[0misinstance\u001b[0m\u001b[0;34m(\u001b[0m\u001b[0mother\u001b[0m\u001b[0;34m,\u001b[0m \u001b[0mSet_object_enumerated\u001b[0m\u001b[0;34m)\u001b[0m\u001b[0;34m:\u001b[0m\u001b[0;34m\u001b[0m\u001b[0m\n\u001b[0;32m--> 972\u001b[0;31m             \u001b[0;32mreturn\u001b[0m \u001b[0mSet_object\u001b[0m\u001b[0;34m.\u001b[0m\u001b[0munion\u001b[0m\u001b[0;34m(\u001b[0m\u001b[0mself\u001b[0m\u001b[0;34m,\u001b[0m \u001b[0mother\u001b[0m\u001b[0;34m)\u001b[0m\u001b[0;34m\u001b[0m\u001b[0m\n\u001b[0m\u001b[1;32m    973\u001b[0m         \u001b[0;32mreturn\u001b[0m \u001b[0mSet_object_enumerated\u001b[0m\u001b[0;34m(\u001b[0m\u001b[0mself\u001b[0m\u001b[0;34m.\u001b[0m\u001b[0mset\u001b[0m\u001b[0;34m(\u001b[0m\u001b[0;34m)\u001b[0m\u001b[0;34m.\u001b[0m\u001b[0munion\u001b[0m\u001b[0;34m(\u001b[0m\u001b[0mother\u001b[0m\u001b[0;34m.\u001b[0m\u001b[0mset\u001b[0m\u001b[0;34m(\u001b[0m\u001b[0;34m)\u001b[0m\u001b[0;34m)\u001b[0m\u001b[0;34m)\u001b[0m\u001b[0;34m\u001b[0m\u001b[0m\n\u001b[1;32m    974\u001b[0m \u001b[0;34m\u001b[0m\u001b[0m\n",
      "\u001b[0;32m/usr/lib/sagemath/local/lib/python2.7/site-packages/sage/sets/set.pyc\u001b[0m in \u001b[0;36munion\u001b[0;34m(self, X)\u001b[0m\n\u001b[1;32m    409\u001b[0m                 \u001b[0;32mreturn\u001b[0m \u001b[0mself\u001b[0m\u001b[0;34m\u001b[0m\u001b[0m\n\u001b[1;32m    410\u001b[0m             \u001b[0;32mreturn\u001b[0m \u001b[0mSet_object_union\u001b[0m\u001b[0;34m(\u001b[0m\u001b[0mself\u001b[0m\u001b[0;34m,\u001b[0m \u001b[0mX\u001b[0m\u001b[0;34m)\u001b[0m\u001b[0;34m\u001b[0m\u001b[0m\n\u001b[0;32m--> 411\u001b[0;31m         \u001b[0;32mraise\u001b[0m \u001b[0mTypeError\u001b[0m\u001b[0;34m(\u001b[0m\u001b[0;34m\"X (=%s) must be a Set\"\u001b[0m\u001b[0;34m%\u001b[0m\u001b[0mX\u001b[0m\u001b[0;34m)\u001b[0m\u001b[0;34m\u001b[0m\u001b[0m\n\u001b[0m\u001b[1;32m    412\u001b[0m \u001b[0;34m\u001b[0m\u001b[0m\n\u001b[1;32m    413\u001b[0m     \u001b[0;32mdef\u001b[0m \u001b[0m__add__\u001b[0m\u001b[0;34m(\u001b[0m\u001b[0mself\u001b[0m\u001b[0;34m,\u001b[0m \u001b[0mX\u001b[0m\u001b[0;34m)\u001b[0m\u001b[0;34m:\u001b[0m\u001b[0;34m\u001b[0m\u001b[0m\n",
      "\u001b[0;31mTypeError\u001b[0m: X (=1) must be a Set"
     ]
    }
   ],
   "source": [
    "np.array()"
   ]
  }
 ],
 "metadata": {
  "kernelspec": {
   "display_name": "SageMath 7.5.1",
   "language": "",
   "name": "sagemath"
  },
  "language_info": {
   "codemirror_mode": {
    "name": "ipython",
    "version": 2
   },
   "file_extension": ".py",
   "mimetype": "text/x-python",
   "name": "python",
   "nbconvert_exporter": "python",
   "pygments_lexer": "ipython2",
   "version": "2.7.13"
  }
 },
 "nbformat": 4,
 "nbformat_minor": 0
}
