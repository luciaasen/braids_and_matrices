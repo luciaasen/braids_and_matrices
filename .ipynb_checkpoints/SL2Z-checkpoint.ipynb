{
 "cells": [
  {
   "cell_type": "code",
   "execution_count": 56,
   "metadata": {
    "collapsed": true
   },
   "outputs": [],
   "source": [
    "import numpy as np\n",
    "\n",
    "# Devuelve la lista de digitos de num en base,\n",
    "# y la completa con ceros a la dcha hasta que\n",
    "# tenga longitud length\n",
    "# A la dcha xq digits te devuelve la lista al reves\n",
    "def extended_digits(num, base, length):\n",
    "    dig = num.digits(base = 4)\n",
    "    dig_len = len(dig)\n",
    "    if dig_len != length:\n",
    "        # Completamos con ceros a la dcha\n",
    "        padding = [0]*(length - dig_len)\n",
    "        dig = dig + padding\n",
    "    return dig\n",
    "\n",
    "# Manera menos elegante del mundo de hacer remove\n",
    "# de x*x^-1 y de y*y^-1\n",
    "def remove_sub2(word, sublist):\n",
    "    for i in range(len(word)-1):\n",
    "        if word[i:i+2] == sublist:\n",
    "            word = word[:i] + word[i+2:]\n",
    "    return word      \n",
    "\n",
    "# Quita los x*x^-1, y*y^-1, x^-1*x, y^-1*y de la palabra \n",
    "def reduce_w(word):\n",
    "    word = remove_sub2(word, [0,2])\n",
    "    word = remove_sub2(word, [2,0])\n",
    "    word = remove_sub2(word, [1,3])\n",
    "    word = remove_sub2(word, [3,1])\n",
    "    return word\n",
    "\n",
    "\n",
    "#Encuentra la matriz -1 en palabras de longitud length\n",
    "def finder(length, goal = np.array(np.mat('-1 0; 0 -1'))):\n",
    "    results = []\n",
    "    for i in srange(4^length):\n",
    "        mult = np.array(np.mat('1 0; 0 1'))\n",
    "        b4_digits = extended_digits(i, 4, length)\n",
    "        for digit in b4_digits:\n",
    "            mult = np.matmul(mult, M[digit])\n",
    "        if np.array_equal(mult, goal):\n",
    "            results.append(b4_digits)\n",
    "    return results\n",
    "\n",
    "# Esta cosa de aqui es útil porque, dada una ristra de palabras,\n",
    "# Te devuelve las palabras que, al quitarle los x*x-1, no han quedado\n",
    "# con la longitud size-antiguas (o sea, que no son repes)\n",
    "def nuevas_de_verdad(words, size_antiguas):\n",
    "    reduced = [reduce_w(word) for word in words]\n",
    "    reduced_n = [] # Metemos aqui los -1 que no son de longitud 6\n",
    "    for word in reduced:\n",
    "        if len(word) != size_antiguas:\n",
    "            reduced_n.append(word)\n",
    "    return reduced_n"
   ]
  },
  {
   "cell_type": "code",
   "execution_count": 2,
   "metadata": {
    "collapsed": false
   },
   "outputs": [],
   "source": [
    "M = []\n",
    "M.append(np.array(np.mat('1 1; 0 1'))) # x\n",
    "M.append(np.array(np.mat('1 0; 1 1'))) # y\n",
    "M.append(np.array(np.mat('1 -1; 0 1'))) # x-1\n",
    "M.append(np.array(np.mat('1 0; -1 1'))) # y-1"
   ]
  },
  {
   "cell_type": "code",
   "execution_count": 49,
   "metadata": {
    "collapsed": false
   },
   "outputs": [
    {
     "data": {
      "text/plain": [
       "(16,\n",
       " [[3, 0, 0, 3, 0, 0],\n",
       "  [0, 3, 0, 0, 3, 0],\n",
       "  [3, 0, 3, 0, 3, 0],\n",
       "  [3, 3, 0, 3, 3, 0],\n",
       "  [2, 1, 1, 2, 1, 1],\n",
       "  [1, 2, 1, 1, 2, 1],\n",
       "  [2, 1, 2, 1, 2, 1],\n",
       "  [2, 2, 1, 2, 2, 1],\n",
       "  [1, 1, 2, 1, 1, 2],\n",
       "  [1, 2, 1, 2, 1, 2],\n",
       "  [2, 1, 2, 2, 1, 2],\n",
       "  [1, 2, 2, 1, 2, 2],\n",
       "  [0, 0, 3, 0, 0, 3],\n",
       "  [0, 3, 0, 3, 0, 3],\n",
       "  [3, 0, 3, 3, 0, 3],\n",
       "  [0, 3, 3, 0, 3, 3]])"
      ]
     },
     "execution_count": 49,
     "metadata": {},
     "output_type": "execute_result"
    }
   ],
   "source": [
    "l = finder(6) #6 es la length minima donde aparece el -1\n",
    "len(l), l"
   ]
  },
  {
   "cell_type": "code",
   "execution_count": 50,
   "metadata": {
    "collapsed": false
   },
   "outputs": [],
   "source": [
    "a8 = finder(8)   \n",
    "a_reduced_8 = nuevas_de_verdad(a8, 6)"
   ]
  },
  {
   "cell_type": "code",
   "execution_count": 27,
   "metadata": {
    "collapsed": false
   },
   "outputs": [
    {
     "data": {
      "text/plain": [
       "(32,\n",
       " [[2, 3, 0, 0, 3, 0, 0, 0],\n",
       "  [2, 3, 0, 3, 0, 3, 0, 0],\n",
       "  [2, 3, 3, 0, 3, 3, 0, 0],\n",
       "  [2, 2, 1, 1, 2, 1, 1, 0],\n",
       "  [2, 1, 2, 1, 1, 2, 1, 0],\n",
       "  [2, 2, 1, 2, 1, 2, 1, 0],\n",
       "  [2, 2, 2, 1, 2, 2, 1, 0],\n",
       "  [2, 3, 0, 3, 3, 0, 3, 0],\n",
       "  [3, 3, 0, 0, 3, 0, 0, 1],\n",
       "  [3, 0, 3, 0, 0, 3, 0, 1],\n",
       "  [3, 3, 0, 3, 0, 3, 0, 1],\n",
       "  [3, 3, 3, 0, 3, 3, 0, 1],\n",
       "  [3, 2, 1, 1, 2, 1, 1, 1],\n",
       "  [3, 2, 1, 2, 1, 2, 1, 1],\n",
       "  [3, 2, 2, 1, 2, 2, 1, 1],\n",
       "  [3, 2, 1, 2, 2, 1, 2, 1],\n",
       "  [0, 1, 2, 1, 1, 2, 1, 2],\n",
       "  [0, 1, 1, 2, 1, 1, 2, 2],\n",
       "  [0, 1, 2, 1, 2, 1, 2, 2],\n",
       "  [0, 1, 2, 2, 1, 2, 2, 2],\n",
       "  [0, 0, 0, 3, 0, 0, 3, 2],\n",
       "  [0, 0, 3, 0, 3, 0, 3, 2],\n",
       "  [0, 3, 0, 3, 3, 0, 3, 2],\n",
       "  [0, 0, 3, 3, 0, 3, 3, 2],\n",
       "  [1, 0, 3, 0, 0, 3, 0, 3],\n",
       "  [1, 1, 1, 2, 1, 1, 2, 3],\n",
       "  [1, 1, 2, 1, 2, 1, 2, 3],\n",
       "  [1, 2, 1, 2, 2, 1, 2, 3],\n",
       "  [1, 1, 2, 2, 1, 2, 2, 3],\n",
       "  [1, 0, 0, 3, 0, 0, 3, 3],\n",
       "  [1, 0, 3, 0, 3, 0, 3, 3],\n",
       "  [1, 0, 3, 3, 0, 3, 3, 3]])"
      ]
     },
     "execution_count": 27,
     "metadata": {},
     "output_type": "execute_result"
    }
   ],
   "source": [
    "# Investigando saca de a_reduced_8 las palabras que son conjugadas de un generador o de su inverso:\n",
    "# gen*algo*gen^-1\n",
    "# Resulta que 'algo' es las cosas bonitas de tamanio 6 que son -1 (los elementos de l)\n",
    "# Y que no es casualidad: gen*bonito*gen^-1 = gen*-1*gen^-1 = -1 xq -1 esta en el centro!\n",
    "\n",
    "investigando = []\n",
    "for word in a_reduced_8:\n",
    "    if (word[0] == 0 and word[-1] == 2) or (word[0] == 2 and word[-1] == 0):\n",
    "        investigando.append(word)\n",
    "    if (word[0] == 1 and word[-1] == 3) or (word[0] == 3 and word[-1] == 1):\n",
    "        investigando.append(word)\n",
    "len(investigando), investigando  "
   ]
  },
  {
   "cell_type": "code",
   "execution_count": 46,
   "metadata": {
    "collapsed": false
   },
   "outputs": [
    {
     "data": {
      "text/plain": [
       "32"
      ]
     },
     "execution_count": 46,
     "metadata": {},
     "output_type": "execute_result"
    }
   ],
   "source": [
    "# Aqui meto todas las demas (las que no son conjugadas)\n",
    "lasquequedan = [word for word in a_reduced_8 if word not in investigando]\n",
    "len(lasquequedan)"
   ]
  },
  {
   "cell_type": "code",
   "execution_count": 47,
   "metadata": {
    "collapsed": false
   },
   "outputs": [
    {
     "data": {
      "text/plain": [
       "[[0, 3, 0, 1, 0, 3, 0, 0],\n",
       " [0, 0, 3, 0, 1, 0, 3, 0],\n",
       " [1, 2, 1, 0, 1, 2, 1, 1],\n",
       " [1, 1, 2, 1, 0, 1, 2, 1],\n",
       " [2, 2, 1, 2, 3, 2, 1, 2],\n",
       " [2, 1, 2, 3, 2, 1, 2, 2],\n",
       " [3, 3, 0, 3, 2, 3, 0, 3],\n",
       " [3, 0, 3, 2, 3, 0, 3, 3]]"
      ]
     },
     "execution_count": 47,
     "metadata": {},
     "output_type": "execute_result"
    }
   ],
   "source": [
    "# De las que quedan, meto aqui las que empiezan y acaban por el mismo generador \n",
    "# (Son una cosa, y la misma cosa dada la vuelta!!)\n",
    "[word for word in lasquequedan if word[0] == word[-1]]"
   ]
  },
  {
   "cell_type": "code",
   "execution_count": 44,
   "metadata": {
    "collapsed": false
   },
   "outputs": [
    {
     "data": {
      "text/plain": [
       "[[0, 0, 0, 3, 0, 1, 0, 3],\n",
       " [0, 1, 0, 3, 0, 0, 0, 3],\n",
       " [0, 1, 2, 1, 1, 1, 2, 1],\n",
       " [0, 3, 0, 0, 0, 3, 0, 1],\n",
       " [0, 3, 2, 3, 0, 3, 3, 3],\n",
       " [0, 3, 3, 3, 0, 3, 2, 3],\n",
       " [1, 0, 1, 2, 1, 1, 1, 2],\n",
       " [1, 0, 3, 0, 0, 0, 3, 0],\n",
       " [1, 1, 1, 2, 1, 0, 1, 2],\n",
       " [1, 2, 1, 1, 1, 2, 1, 0],\n",
       " [1, 2, 2, 2, 1, 2, 3, 2],\n",
       " [1, 2, 3, 2, 1, 2, 2, 2],\n",
       " [2, 1, 0, 1, 2, 1, 1, 1],\n",
       " [2, 1, 1, 1, 2, 1, 0, 1],\n",
       " [2, 1, 2, 2, 2, 1, 2, 3],\n",
       " [2, 2, 2, 1, 2, 3, 2, 1],\n",
       " [2, 3, 0, 3, 3, 3, 0, 3],\n",
       " [2, 3, 2, 1, 2, 2, 2, 1],\n",
       " [3, 0, 0, 0, 3, 0, 1, 0],\n",
       " [3, 0, 1, 0, 3, 0, 0, 0],\n",
       " [3, 0, 3, 3, 3, 0, 3, 2],\n",
       " [3, 2, 1, 2, 2, 2, 1, 2],\n",
       " [3, 2, 3, 0, 3, 3, 3, 0],\n",
       " [3, 3, 3, 0, 3, 2, 3, 0]]"
      ]
     },
     "execution_count": 44,
     "metadata": {},
     "output_type": "execute_result"
    }
   ],
   "source": [
    "# Y aqui todo lo demas\n",
    "# Hay algunas que estan dadas la vuelta, y otras que mantienen los endpoints e invierten el orden de los 3 pares internos\n",
    "# Veanse los 2 primeros elementos\n",
    "#      0  00 30 10  3\n",
    "#      0  10 30 00  3\n",
    "sorted([word1 for word1 in lasquequedan if word1 not in [word for word in lasquequedan if word[0] == word[-1]]])        "
   ]
  },
  {
   "cell_type": "code",
   "execution_count": 52,
   "metadata": {
    "collapsed": true
   },
   "outputs": [],
   "source": [
    "a10 = finder(10)"
   ]
  },
  {
   "cell_type": "code",
   "execution_count": 57,
   "metadata": {
    "collapsed": false
   },
   "outputs": [
    {
     "data": {
      "text/plain": [
       "2712"
      ]
     },
     "execution_count": 57,
     "metadata": {},
     "output_type": "execute_result"
    }
   ],
   "source": [
    "a_reduced_10 = nuevas_de_verdad(a10, 6)\n",
    "len(a_reduced_10)"
   ]
  },
  {
   "cell_type": "code",
   "execution_count": 10,
   "metadata": {
    "collapsed": false
   },
   "outputs": [],
   "source": [
    "a11 = finder(11)"
   ]
  },
  {
   "cell_type": "code",
   "execution_count": 58,
   "metadata": {
    "collapsed": false
   },
   "outputs": [
    {
     "data": {
      "text/plain": [
       "(0, [])"
      ]
     },
     "execution_count": 58,
     "metadata": {},
     "output_type": "execute_result"
    }
   ],
   "source": [
    "a_reduced_11 = nuevas_de_verdad(a11, 6)\n",
    "len(a_reduced_11), a_reduced_11"
   ]
  },
  {
   "cell_type": "code",
   "execution_count": 13,
   "metadata": {
    "collapsed": false
   },
   "outputs": [],
   "source": [
    "a12 = finder(12)"
   ]
  },
  {
   "cell_type": "code",
   "execution_count": 60,
   "metadata": {
    "collapsed": false
   },
   "outputs": [
    {
     "data": {
      "text/plain": [
       "66880"
      ]
     },
     "execution_count": 60,
     "metadata": {},
     "output_type": "execute_result"
    }
   ],
   "source": [
    "a_reduced_12 = nuevas_de_verdad(a12, 6)\n",
    "len(a_reduced_12)"
   ]
  },
  {
   "cell_type": "code",
   "execution_count": null,
   "metadata": {
    "collapsed": true
   },
   "outputs": [],
   "source": []
  }
 ],
 "metadata": {
  "kernelspec": {
   "display_name": "SageMath 7.5.1",
   "language": "",
   "name": "sagemath"
  },
  "language_info": {
   "codemirror_mode": {
    "name": "ipython",
    "version": 2
   },
   "file_extension": ".py",
   "mimetype": "text/x-python",
   "name": "python",
   "nbconvert_exporter": "python",
   "pygments_lexer": "ipython2",
   "version": "2.7.13"
  }
 },
 "nbformat": 4,
 "nbformat_minor": 0
}
