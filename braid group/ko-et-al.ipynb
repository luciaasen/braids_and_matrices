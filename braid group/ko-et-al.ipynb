{
 "cells": [
  {
   "cell_type": "code",
   "execution_count": 26,
   "metadata": {
    "collapsed": true
   },
   "outputs": [],
   "source": [
    "import re\n",
    "a = 'a0*a1*a0^-1*a1^-3*a2^11'\n",
    "\n",
    "# Una punietera funcion que dada una trenza de la forma a1^2*a2^-20*a15^21, \n",
    "# returns the list associated to that braid (in this case, list would be [0,0,-1,-1,-1...]\n",
    "# so that string '=' b(list)) where b is the braid group of n strands \n",
    "# (si estas en B3 y me pasas un a15 NOT MY FAULT)\n",
    "# letter indicates the letter with which you instantiated the braid group (i.e., b ) BraidGroup(n, letter)\n",
    "# Me cago en la leche wue ya podrian darme esto hecho, AQUI YO COMO UNA GILIPOLLAS QUITANDOME TIEMPO DE \n",
    "# PRACTICAS PARA PARSEAR TRENZAS. CACA.\n",
    "def str_to_list(string, letter = 'a'):\n",
    "    string = string.replace(letter, '')\n",
    "    # a0/a1 == braid([a0, -a1])\n",
    "    string = string.replace('/', '*-')\n",
    "    # a0^-1 == braid([-a0])\n",
    "    # places contains thr position of each ^, and \n",
    "    places = [m.start() for m in re.finditer('\\^[-]?[0-9]+', string)]\n",
    "    # now, powers contains the number associated to each ^ pointed by places\n",
    "    powers = [the_power(place, string) for place in places]\n",
    "    # repes is a list of the strings that shall replace the '^n' inside the input string\n",
    "    # for example, if '2^3' in string, there will be an element in repes of the form '*2*2*2'\n",
    "    # similarly, if '3^-3' in string, there will be an element in repes of the form '*-3*-3*-3'\n",
    "    repes = [repe(string, place, power) for (place, power) in zip(places, powers)]\n",
    "    # now, we should 'erase' every gen^n from the string and replace it with the correct\n",
    "    # element from repes (*gen*gen*gen...). First we separate the initial string\n",
    "    splitted = re.split('[0-9]+\\^[-]?[0-9]+', string)\n",
    "    # Then we introduce the 'repes' between the separations\n",
    "    without_powers = ''\n",
    "    for (splt, rep) in zip(splitted, repes):\n",
    "        without_powers = without_powers + splt + rep\n",
    "    without_powers += splitted[-1]\n",
    "    # YYYYY PORFIN, the only thing left to do is to take away the * and to sum one up to each number\n",
    "    # Por alguna extrania razon que no alcanzo a comprender, a0*a3 = [1,4] --> sin sentidos de la vida de python\n",
    "    braid_list = [plus_one(elem) for elem in without_powers.split('*')]\n",
    "    return braid_list\n",
    "\n",
    "#############################################################\n",
    "##### FUNCIONES AUXILIARES PA LA JAMADA DE AHI ARRIBA #######\n",
    "#############################################################\n",
    "\n",
    "# Given a string and if ini points to a '^', the power returns the number that comes after '^'\n",
    "def the_power(ini,string):\n",
    "    #end contains the index of the first * after the ^. That is, the end of the number after the ^\n",
    "    end = string.find('*', ini)\n",
    "    if end != -1:\n",
    "        return int(string[ini+1:end])\n",
    "    # if end = -1, no '*' was found after '^' --> the number is at the end of the string\n",
    "    return int(string[ini+1:])\n",
    "\n",
    "# string is of the form 0^13*1^-2*3...(coming from a0^13*a1^-2...)\n",
    "# ini points to the ^ and power is an integer describing the number\n",
    "# just after ^\n",
    "def repe(string, ini, power):\n",
    "    if power > 0:\n",
    "        operator = '*'\n",
    "    else:\n",
    "        operator = '*-'\n",
    "    # The generator is the number just before the '^', (a0^3)\n",
    "    gen = string[ini-1]\n",
    "    \n",
    "    # ret will be '*gen*gen*gen...' as many times as power indicates\n",
    "    ret = ''\n",
    "    for i in range(abs(power)):\n",
    "        ret = ret + operator + gen\n",
    "    # We take away the initial '*' porq si no se lia :D (Que feo :/)\n",
    "    return ret[1:]\n",
    "\n",
    "# elem is a string, either 'i' or '-i', i > 0\n",
    "# returns integer i+1 in the first case, -i-1 in the second one\n",
    "def plus_one(elem):\n",
    "    # special case of elem = '-0' should return -1, not 1\n",
    "    if str(elem) == '-0':\n",
    "        return -1\n",
    "    elif int(elem) >= 0: \n",
    "        \n",
    "        return int(elem) + 1\n",
    "    return int(elem) - 1\n",
    "\n",
    "########### Y OTRAS COSIS PARA LA CRIPTO ############\n",
    "# returns b1 * b2 * b1^-1, where b1, b2 are braid objects\n",
    "def conjugate(b1, b2):\n",
    "    return b1*b2/b1"
   ]
  },
  {
   "cell_type": "code",
   "execution_count": 43,
   "metadata": {
    "collapsed": false
   },
   "outputs": [
    {
     "name": "stdout",
     "output_type": "stream",
     "text": [
      "s7^-1*s8^-2*s6*s8^-1*s6^-1*s8*s1^-1*s2^-1*s3^-1*s0^-1*s5*s1*s6^-1*s7*s1^-1*s2*s1*s8^-1*s6*s8*s6^-1*s8^2*s7\n",
      "\n",
      "\n",
      "s1^-1*s2^-1*s1*s7^-1*s8^-2*s6*s8^-1*s6^-1*s8*s1^-1*s3^-1*s0^-1*s5*s1*s6^-1*s7*s8^-1*s6*s8*s6^-1*s8^2*s7*s1^-1*s2*s1\n",
      "\n",
      "\n",
      "((s0^-1*s1^-1*s2^-1*s3^-1*s4^-1*s5^-1*s6^-1*s7^-1*s8^-1*s0^-1*s1^-1*s2^-1*s3^-1*s4^-1*s5^-1*s6^-1*s7^-1*s0^-1*s1^-1*s2^-1*s3^-1*s4^-1*s5^-1*s6^-1*s0^-1*s1^-1*s2^-1*s3^-1*s4^-1*s5^-1*s0^-1*s1^-1*s2^-1*s3^-1*s4^-1*s0^-1*s1^-1*s2^-1*s3^-1*s0^-1*s1^-1*s2^-1*s0^-1*s1^-1*s0^-1)^2, s0*s1*s0*s2*s1*s0*s3*s2*s1*s0*s4*s3*s2*s1*s0*s5*s4*s3*s2*s1*s0*s6*s5*s4*s3*s2*s1*s0*s7*s6*s5*s4*s3*s2*s1*s8*s7*s6*s5*s4*s3*s2*s1, s1*s0*s2*s1*s3*s2*s1*s4*s3*s2*s1*s0*s5*s4*s3*s2*s1*s0*s6*s5*s4*s3*s2*s1*s0*s7*s6*s5*s4*s3*s8*s7*s6*s5*s4*s3*s2*s1, s2*s1*s6*s5*s7*s8, s8*s7)\n",
      "\n",
      "\n",
      "((s0^-1*s1^-1*s2^-1*s3^-1*s4^-1*s5^-1*s6^-1*s7^-1*s8^-1*s0^-1*s1^-1*s2^-1*s3^-1*s4^-1*s5^-1*s6^-1*s7^-1*s0^-1*s1^-1*s2^-1*s3^-1*s4^-1*s5^-1*s6^-1*s0^-1*s1^-1*s2^-1*s3^-1*s4^-1*s5^-1*s0^-1*s1^-1*s2^-1*s3^-1*s4^-1*s0^-1*s1^-1*s2^-1*s3^-1*s0^-1*s1^-1*s2^-1*s0^-1*s1^-1*s0^-1)^2, s0*s1*s0*s2*s1*s0*s3*s2*s1*s0*s4*s3*s2*s1*s0*s5*s4*s3*s2*s1*s0*s6*s5*s4*s3*s2*s1*s0*s7*s6*s5*s4*s3*s2*s1*s8*s7*s6*s5*s4*s3*s2*s1, s1*s0*s2*s1*s3*s2*s1*s4*s3*s2*s1*s0*s5*s4*s3*s2*s1*s0*s6*s5*s4*s3*s2*s1*s0*s7*s6*s5*s4*s3*s8*s7*s6*s5*s4*s3*s2*s1, s2*s1*s6*s5*s7*s8, s8*s7)\n",
      "\n",
      "\n"
     ]
    }
   ],
   "source": [
    "n = 10\n",
    "b = BraidGroup(n)\n",
    "b.gens()\n",
    "sub1 = b.gens()[:(n/2-1)]\n",
    "sub2 = b.gens()[n/2:]\n",
    "sub1, sub2\n",
    "public = [randint(-(n-1), n-1) for i in range(7)]\n",
    "while 0 in public:\n",
    "    'holis'\n",
    "    public.remove(0)\n",
    "\n",
    "# Private key for Alice in the upper subgroup (< a_n/2+1 ... a_n-1>)\n",
    "list_to_choose = range(-(n-1), -(n/2)) + range(n/2+1, n)\n",
    "a_priv = [list_to_choose[randint(0, len(list_to_choose)-1)] for i in range(7)]\n",
    "\n",
    "# Private key for Bob in the lower subgroup (<a1 ... a_n/2-1>)\n",
    "list_to_choose = range(-(n/2-1), 0) + range(1, n/2)\n",
    "b_priv = [list_to_choose[randint(0, len(list_to_choose)-1)] for i in range(7)]\n",
    "\n",
    "a_to_b = conjugate(b(a_priv), b(public))\n",
    "b_to_a = conjugate(b(b_priv), b(public))\n",
    "\n",
    "private_shared_a = conjugate(b(a_priv), b_to_a)\n",
    "private_shared_b = conjugate(b(b_priv), a_to_b)\n",
    "\n",
    "print private_shared_a\n",
    "print '\\n'\n",
    "print private_shared_b\n",
    "print '\\n'\n",
    "print private_shared_a.left_normal_form()\n",
    "print '\\n'\n",
    "print private_shared_b.left_normal_form()\n",
    "print '\\n'\n"
   ]
  },
  {
   "cell_type": "code",
   "execution_count": 35,
   "metadata": {
    "collapsed": false
   },
   "outputs": [
    {
     "data": {
      "text/plain": [
       "3"
      ]
     },
     "execution_count": 35,
     "metadata": {},
     "output_type": "execute_result"
    }
   ],
   "source": [
    "l = [1,2,3]\n",
    "len(l)"
   ]
  },
  {
   "cell_type": "code",
   "execution_count": null,
   "metadata": {
    "collapsed": true
   },
   "outputs": [],
   "source": []
  }
 ],
 "metadata": {
  "kernelspec": {
   "display_name": "SageMath 7.5.1",
   "language": "",
   "name": "sagemath"
  },
  "language_info": {
   "codemirror_mode": {
    "name": "ipython",
    "version": 2
   },
   "file_extension": ".py",
   "mimetype": "text/x-python",
   "name": "python",
   "nbconvert_exporter": "python",
   "pygments_lexer": "ipython2",
   "version": "2.7.13"
  }
 },
 "nbformat": 4,
 "nbformat_minor": 0
}
