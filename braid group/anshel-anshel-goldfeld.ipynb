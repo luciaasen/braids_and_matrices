{
 "cells": [
  {
   "cell_type": "code",
   "execution_count": 1,
   "metadata": {
    "collapsed": true
   },
   "outputs": [],
   "source": [
    "import re\n",
    "a = 'a0*a1*a0^-1*a1^-3*a2^11'\n",
    "\n",
    "# Una punietera funcion que dada una trenza de la forma a1^2*a2^-20*a15^21, \n",
    "# returns the list associated to that braid (in this case, list would be [0,0,-1,-1,-1...]\n",
    "# so that string '=' b(list)) where b is the braid group of n strands \n",
    "# (si estas en B3 y me pasas un a15 NOT MY FAULT)\n",
    "# letter indicates the letter with which you instantiated the braid group (i.e., b ) BraidGroup(n, letter)\n",
    "# Me cago en la leche wue ya podrian darme esto hecho, AQUI YO COMO UNA GILIPOLLAS QUITANDOME TIEMPO DE \n",
    "# PRACTICAS PARA PARSEAR TRENZAS. CACA.\n",
    "def str_to_list(string, letter = 'a'):\n",
    "    string = string.replace(letter, '')\n",
    "    # a0/a1 == braid([a0, -a1])\n",
    "    string = string.replace('/', '*-')\n",
    "    # a0^-1 == braid([-a0])\n",
    "    # places contains thr position of each ^, and \n",
    "    places = [m.start() for m in re.finditer('\\^[-]?[0-9]+', string)]\n",
    "    # now, powers contains the number associated to each ^ pointed by places\n",
    "    powers = [the_power(place, string) for place in places]\n",
    "    # repes is a list of the strings that shall replace the '^n' inside the input string\n",
    "    # for example, if '2^3' in string, there will be an element in repes of the form '*2*2*2'\n",
    "    # similarly, if '3^-3' in string, there will be an element in repes of the form '*-3*-3*-3'\n",
    "    repes = [repe(string, place, power) for (place, power) in zip(places, powers)]\n",
    "    # now, we should 'erase' every gen^n from the string and replace it with the correct\n",
    "    # element from repes (*gen*gen*gen...). First we separate the initial string\n",
    "    splitted = re.split('[0-9]+\\^[-]?[0-9]+', string)\n",
    "    # Then we introduce the 'repes' between the separations\n",
    "    without_powers = ''\n",
    "    for (splt, rep) in zip(splitted, repes):\n",
    "        without_powers = without_powers + splt + rep\n",
    "    without_powers += splitted[-1]\n",
    "    # YYYYY PORFIN, the only thing left to do is to take away the * and to sum one up to each number\n",
    "    # Por alguna extrania razon que no alcanzo a comprender, a0*a3 = [1,4] --> sin sentidos de la vida de python\n",
    "    braid_list = [plus_one(elem) for elem in without_powers.split('*')]\n",
    "    return braid_list\n",
    "\n",
    "#############################################################\n",
    "##### FUNCIONES AUXILIARES PA LA JAMADA DE AHI ARRIBA #######\n",
    "#############################################################\n",
    "\n",
    "# Given a string and if ini points to a '^', the power returns the number that comes after '^'\n",
    "def the_power(ini,string):\n",
    "    #end contains the index of the first * after the ^. That is, the end of the number after the ^\n",
    "    end = string.find('*', ini)\n",
    "    if end != -1:\n",
    "        return int(string[ini+1:end])\n",
    "    # if end = -1, no '*' was found after '^' --> the number is at the end of the string\n",
    "    return int(string[ini+1:])\n",
    "\n",
    "# string is of the form 0^13*1^-2*3...(coming from a0^13*a1^-2...)\n",
    "# ini points to the ^ and power is an integer describing the number\n",
    "# just after ^\n",
    "def repe(string, ini, power):\n",
    "    if power > 0:\n",
    "        operator = '*'\n",
    "    else:\n",
    "        operator = '*-'\n",
    "    # The generator is the number just before the '^', (a0^3)\n",
    "    gen = string[ini-1]\n",
    "    \n",
    "    # ret will be '*gen*gen*gen...' as many times as power indicates\n",
    "    ret = ''\n",
    "    for i in range(abs(power)):\n",
    "        ret = ret + operator + gen\n",
    "    # We take away the initial '*' porq si no se lia :D (Que feo :/)\n",
    "    return ret[1:]\n",
    "\n",
    "# elem is a string, either 'i' or '-i', i > 0\n",
    "# returns integer i+1 in the first case, -i-1 in the second one\n",
    "def plus_one(elem):\n",
    "    # special case of elem = '-0' should return -1, not 1\n",
    "    if str(elem) == '-0':\n",
    "        return -1\n",
    "    elif int(elem) >= 0: \n",
    "        \n",
    "        return int(elem) + 1\n",
    "    return int(elem) - 1\n",
    "\n"
   ]
  },
  {
   "cell_type": "code",
   "execution_count": 2,
   "metadata": {
    "collapsed": false
   },
   "outputs": [
    {
     "data": {
      "text/plain": [
       "a2*a1*a0^-1*a1^-1*a2^-1*a0*a1^-1*a0^-1*a1*a0*a1^-1*a2^-1"
      ]
     },
     "execution_count": 2,
     "metadata": {},
     "output_type": "execute_result"
    }
   ],
   "source": [
    "########### Y OTRAS COSIS PARA LA CRIPTO ############\n",
    "# returns b1 * b2 * b1^-1, where b1, b2 are braid objects\n",
    "def conjugate(b1, b2):\n",
    "    return b1*b2/b1\n",
    "\n",
    "# Go to  Anshel-Anshel-Goldfeld y te enteras mejor\n",
    "# If alice_or_bob == 'alice' \n",
    "# Conjugates the inverse of your own private key by the other (Bob's) private key, given a list \n",
    "# with the conjugates of the generators of the shared public subgroup by Bob's private key. \n",
    "# If alice_or_bob == 'bob':\n",
    "# Conjugates your own private key by the other (Alice's) private key\n",
    "# Creo que debo estar haciendo un destrozo a la lengua inglesa y a su teoria de grupos. Pero es lo que hay.\n",
    "#\n",
    "# private is a private key like 'a0*a1^3*a4^-2...' A STRING. Let's say its Alice's private key\n",
    "# conj_gens is a list like ['a0*a1', 'a1^3*a^-2', 'a4/a5', ...], where each element is a string with \n",
    "# the result of conjugating gen by b, where b is Bob's private key and gen is an element generating\n",
    "# the public subgroup shared by Alice and Bob\n",
    "# Returns a braid (not a string, not a list)\n",
    "def conjugate_private(private, conj_gens, group, alice_or_bob, letter = 'a'):\n",
    "    result = group([])\n",
    "    # make list from conj_gens and from private, so that we can work with them easily\n",
    "    l_conj_gens = [str_to_list(conj_gen, letter) for conj_gen in conj_gens]\n",
    "    if alice_or_bob == 'alice':\n",
    "        # To get the list associated with alice's inverse key, we get the list associated with\n",
    "        # alice's key, reverse it and multiply it *-1\n",
    "        l_private = [-1*elem for elem in str_to_list(str(private), letter)[::-1]]\n",
    "    elif alice_or_bob == 'bob':\n",
    "        l_private = str_to_list(str(private), letter)\n",
    "    # Now, each b_priv * gen_i / b_priv is contained in the (i-1)th element of conj_gens\n",
    "    # Yo no se explicar de manera facil y corta lo q voy a hacer ahora. Pero voy a conjugar\n",
    "    # la clave privada propia por la clave privada ajena y punto.\n",
    "    for element in l_private:\n",
    "        conj_gen = group(l_conj_gens[abs(element) - 1])\n",
    "        if element > 0:\n",
    "            result *= conj_gen\n",
    "        \n",
    "        else:\n",
    "            result *= conj_gen^-1\n",
    "    return result\n",
    "\n",
    "# Es un poco pesado andar pasando como argumentos strings en vez de trenzas, pero tiene sentido si piensas \n",
    "# que son un mail que te ha llegado desde la otra punta del planeta (el mundo todavia no esta preparado\n",
    "# para enviar trenzas por mail, hasta entonces, seguiremos enviando strings)\n",
    "\n",
    "# own_private: string of a braid in Bn (for example. 'a1*a4^-2*a7) which is your private key\n",
    "# conj_gens: list where each element is a string with the result of conjugating gen by b, where b is the other \n",
    "# person's private key and gen is a generator of the public subgroup shared by Alice and Bob\n",
    "# alice_or_bob = 'alice' if you are alice, 'bob' if you are bob. See below.\n",
    "#\n",
    "# Given you own private key (lets say its a) and the public shared subgroup generators conjugated by\n",
    "# the other person's private key (lets say b), returns the private shared key a*b/a/b\n",
    "# If you are giving the 'a' key in the own_private argument, alice_or_bob should be the string 'alice'\n",
    "# If you are giving the 'b' key in the own_private argument, alice_or_bob should be the string 'bob'\n",
    "def private_shared_key(own_private, conj_gens, alice_or_bob, group, letter = 'a'):\n",
    "    factor = conjugate_private(own_private, conj_gens, group, alice_or_bob, letter = 'a')\n",
    "    if alice_or_bob == 'alice':\n",
    "        return group(str_to_list(own_private)) * factor\n",
    "    elif alice_or_bob == 'bob':\n",
    "        return factor * group(str_to_list(own_private))^-1\n",
    "\n",
    "b = BraidGroup(7, 'a')\n",
    "subgroup.<a0,a1,a2> = BraidGroup(4)\n",
    "\n",
    "a_private = subgroup([1,2,-1,3])\n",
    "b_private = subgroup([3,2,-1,-2])\n",
    "\n",
    "a_to_b = [conjugate(a_private, gen) for gen in subgroup.gens()]\n",
    "b_to_a = [conjugate(b_private, gen) for gen in subgroup.gens()]\n",
    "\n",
    "\n",
    "conjugate_private(str(a_private), [str(conj_gen) for conj_gen in b_to_a], subgroup, 'alice', letter = 'a')\n",
    "\n"
   ]
  },
  {
   "cell_type": "code",
   "execution_count": 65,
   "metadata": {
    "collapsed": false
   },
   "outputs": [],
   "source": [
    "br = []\n",
    "b = BraidGroup(3, 'a')\n",
    "br.append(b([1,-1]))\n",
    "br.append(b([1]))\n",
    "br.append(b([2]))\n",
    "br.append(b([1,2]))\n",
    "br.append(b([1,1,1,1,1,1,1,1]))\n",
    "b = BraidGroup(6, 'a')\n",
    "br.append(b([3,5,-3,-4,2,-1,-2]))\n",
    "\n",
    "i = 0\n",
    "for im in br:\n",
    "    c = im.plot(aspect_ratio = 5, thickness=3)\n",
    "    c.save(str(i) + '.png')\n",
    "    i += 1\n"
   ]
  },
  {
   "cell_type": "code",
   "execution_count": 69,
   "metadata": {
    "collapsed": true
   },
   "outputs": [],
   "source": [
    "br = []\n",
    "b = BraidGroup(5, 'a')\n",
    "br.append(b([1]))\n",
    "br.append(b([2]))\n",
    "br.append(b([3]))\n",
    "br.append(b([4]))\n",
    "i = 0\n",
    "for im in br:\n",
    "    c = im.plot(aspect_ratio = 5, thickness=3)\n",
    "    c.save('a' + str(i) + '.png')\n",
    "    i += 1\n"
   ]
  },
  {
   "cell_type": "code",
   "execution_count": 254,
   "metadata": {
    "collapsed": false
   },
   "outputs": [
    {
     "name": "stdout",
     "output_type": "stream",
     "text": [
      "((a0^-1*a1^-1*a2^-1*a0^-1*a1^-1*a0^-1)^3, a0*a1*a2*a1*a0, a0*a1*a2, a2*a1, a1, a1, a1*a0*a2, a2*a1*a0)\n",
      "((a0^-1*a1^-1*a2^-1*a0^-1*a1^-1*a0^-1)^3, a0*a1*a2*a1*a0, a0*a1*a2, a2*a1, a1, a1, a1*a0*a2, a2*a1*a0)\n"
     ]
    }
   ],
   "source": [
    "print private_shared_key(str(a_private), [str(conj_gen) for conj_gen in b_to_a], 'alice', subgroup).left_normal_form()\n",
    "print private_shared_key(str(b_private), [str(conj_gen) for conj_gen in a_to_b], 'bob', subgroup).left_normal_form()\n"
   ]
  },
  {
   "cell_type": "code",
   "execution_count": 58,
   "metadata": {
    "collapsed": false
   },
   "outputs": [
    {
     "data": {
      "text/plain": [
       "['#ff0000', '#7fff00', '#00ffff', '#7f00ff']"
      ]
     },
     "execution_count": 58,
     "metadata": {},
     "output_type": "execute_result"
    }
   ],
   "source": [
    "sage.plot.colors.rainbow(4, format='hex')"
   ]
  },
  {
   "cell_type": "code",
   "execution_count": 62,
   "metadata": {
    "collapsed": false
   },
   "outputs": [
    {
     "data": {
      "image/png": "[encoded data removed]",
      "text/plain": [
       "Graphics object consisting of 3 graphics primitives"
      ]
     },
     "metadata": {},
     "output_type": "display_data"
    }
   ],
   "source": [
    "G = Graphics()\n",
    "G += plot(3,(x, 1, 4), color='#ff0000', thickness=3, aspect_ratio = 0.9)\n",
    "G += plot(3.5, (x, 1, 4),color='#7fff00', thickness=3)\n",
    "G += plot(4, (x, 1, 4),color='#00ffff', thickness=3)\n",
    "G.show(figsize=[5,5] )\n",
    "G.save('id.png')"
   ]
  },
  {
   "cell_type": "code",
   "execution_count": 26,
   "metadata": {
    "collapsed": false
   },
   "outputs": [
    {
     "data": {
      "text/plain": [
       "a2*a1*a0^-1*a1^-1*a0*a1*a0^-1*a2*a1*a0*a1^-1*a2^-1"
      ]
     },
     "execution_count": 26,
     "metadata": {},
     "output_type": "execute_result"
    }
   ],
   "source": [
    "a2*a1*a0^-1*a1^-1*a0*a1*a0^-1*a1*a0*a1^-1*a2^-1*a2*a1*a0^-1*a1^-1*a2*a1*a0*a1^-1*a2^-1"
   ]
  },
  {
   "cell_type": "code",
   "execution_count": 7,
   "metadata": {
    "collapsed": false
   },
   "outputs": [],
   "source": [
    "# alice has b_priv * gen / b_priv\n",
    "# now, Alice can compute b_priv / a_priv / bpriv without knowing b_priv!\n",
    "a_str = str(a_private)"
   ]
  },
  {
   "cell_type": "code",
   "execution_count": 209,
   "metadata": {
    "collapsed": false
   },
   "outputs": [
    {
     "data": {
      "text/plain": [
       "(a2*a1*a0^-1*a1^-1*a0*a1*a0^-1*a2*a1*a0*a1^-1*a2^-1,\n",
       " a2*a1*a0^-1*a1^-1*a0*a1*a0^-1*a2*a1*a0*a1^-1*a2^-1)"
      ]
     },
     "execution_count": 209,
     "metadata": {},
     "output_type": "execute_result"
    }
   ],
   "source": [
    "a2*a1*a0^-1*a1^-1*a0*a1*a0^-1*a2*a1*a0*a1^-1*a2^-1, a2*a1*a0^-1*a1^-1*a0*a1*a0^-1*a2*a1*a0*a1^-1*a2^-1"
   ]
  },
  {
   "cell_type": "code",
   "execution_count": 116,
   "metadata": {
    "collapsed": false
   },
   "outputs": [],
   "source": []
  },
  {
   "cell_type": "code",
   "execution_count": 121,
   "metadata": {
    "collapsed": false
   },
   "outputs": [
    {
     "name": "stdout",
     "output_type": "stream",
     "text": [
      "[1, 2, -1, -2, -2, -2, 3, 3, 3, 3, 3, 3, 3, 3, 3, 3, 3]\n",
      "a0*a1*a0^-1*a1^-3*a2^11\n"
     ]
    }
   ],
   "source": [
    "without = str_to_list(a)\n",
    "print without\n",
    "print b(without)"
   ]
  },
  {
   "cell_type": "code",
   "execution_count": 133,
   "metadata": {
    "collapsed": false
   },
   "outputs": [],
   "source": []
  }
 ],
 "metadata": {
  "kernelspec": {
   "display_name": "SageMath 7.5.1",
   "language": "",
   "name": "sagemath"
  },
  "language_info": {
   "codemirror_mode": {
    "name": "ipython",
    "version": 2
   },
   "file_extension": ".py",
   "mimetype": "text/x-python",
   "name": "python",
   "nbconvert_exporter": "python",
   "pygments_lexer": "ipython2",
   "version": "2.7.13"
  }
 },
 "nbformat": 4,
 "nbformat_minor": 0
}
