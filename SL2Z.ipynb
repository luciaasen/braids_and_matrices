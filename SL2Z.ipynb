{
 "cells": [
  {
   "cell_type": "code",
   "execution_count": 1,
   "metadata": {
    "collapsed": false
   },
   "outputs": [],
   "source": [
    "import numpy as np\n",
    "from numpy import linalg as LA\n",
    "\n",
    "M = []\n",
    "M.append(np.array(np.mat('1 1; 0 1'))) # x\n",
    "M.append(np.array(np.mat('1 0; 1 1'))) # y\n",
    "M.append(np.array(np.mat('1 -1; 0 1'))) # x-1\n",
    "M.append(np.array(np.mat('1 0; -1 1'))) # y-1\n",
    "F = []\n",
    "F.append(np.array(np.mat('1 2; 0 1'))) # x\n",
    "F.append(np.array(np.mat('1 0; 2 1'))) # y\n",
    "F.append(np.array(np.mat('1 -2; 0 1'))) # x-1\n",
    "F.append(np.array(np.mat('1 0; -2 1'))) # y-1\n",
    "\n",
    "# Devuelve la lista de digitos de num en base,\n",
    "# y la completa con ceros a la dcha hasta que\n",
    "# tenga longitud length\n",
    "# A la dcha xq digits te devuelve la lista al reves\n",
    "def extended_digits(num, base, length):\n",
    "    dig = num.digits(base = 4)\n",
    "    dig_len = len(dig)\n",
    "    if dig_len != length:\n",
    "        # Completamos con ceros a la dcha\n",
    "        padding = [0]*(length - dig_len)\n",
    "        dig = dig + padding\n",
    "    return dig\n",
    "\n",
    "# Manera menos elegante del mundo de hacer remove\n",
    "# de x*x^-1 y de y*y^-1\n",
    "def remove_sub2(word, sublist):\n",
    "    for i in range(len(word)-1):\n",
    "        if word[i:i+2] == sublist:\n",
    "            word = word[:i] + word[i+2:]\n",
    "    return word      \n",
    "\n",
    "# Quita los x*x^-1, y*y^-1, x^-1*x, y^-1*y de la palabra \n",
    "def reduce_w(word):\n",
    "    word = remove_sub2(word, [0,2])\n",
    "    word = remove_sub2(word, [2,0])\n",
    "    word = remove_sub2(word, [1,3])\n",
    "    word = remove_sub2(word, [3,1])\n",
    "    return word\n",
    "\n",
    "\n",
    "#Encuentra la matriz -1 en palabras de longitud length\n",
    "def finder(length, goal = np.array(np.mat('-1 0; 0 -1'))):\n",
    "    results = []\n",
    "    for i in srange(4^length):\n",
    "        mult = np.array(np.mat('1 0; 0 1'))\n",
    "        b4_digits = extended_digits(i, 4, length)\n",
    "        for digit in b4_digits:\n",
    "            mult = np.matmul(mult, M[digit])\n",
    "        if np.array_equal(mult, goal):\n",
    "            results.append(b4_digits)\n",
    "    return results\n",
    "\n",
    "# Esta cosa de aqui es útil porque, dada una ristra de palabras,\n",
    "# Te devuelve las palabras que, al quitarle los x*x-1, no han quedado\n",
    "# con la longitud size-antiguas (o sea, que no son repes)\n",
    "def nuevas_de_verdad(words, size_antiguas):\n",
    "    reduced = [reduce_w(word) for word in words]\n",
    "    reduced_n = [] # Metemos aqui los -1 que no son de longitud 6\n",
    "    for word in reduced:\n",
    "        if len(word) != size_antiguas:\n",
    "            reduced_n.append(word)\n",
    "    return reduced_n\n",
    "\n",
    "def produce(length, gens = F, num_gens = 4):\n",
    "    results = []\n",
    "    for i in srange(num_gens^length):\n",
    "        mult = np.array(np.mat('1 0; 0 1'))\n",
    "        b4_digits = extended_digits(i, num_gens, length)\n",
    "        for digit in b4_digits:\n",
    "            mult = np.matmul(mult, gens[digit])\n",
    "        results.append(mult)\n",
    "    return results\n",
    "\n",
    "\n",
    "\n",
    "def not_in(elem, lista):\n",
    "    for elem2 in lista:\n",
    "        if elem[0][0] == elem2[0][0] and elem[0][1] == elem2[0][1] and elem[1][0] == elem2[1][0] and elem[1][1] == elem2[1][1]:\n",
    "            return False\n",
    "    return True\n",
    "\n",
    "def elim_dups(lista):\n",
    "    final = []\n",
    "    for elem in lista:\n",
    "        if not_in(elem, final):\n",
    "            final.append(elem)\n",
    "    return final"
   ]
  },
  {
   "cell_type": "code",
   "execution_count": null,
   "metadata": {
    "collapsed": false
   },
   "outputs": [],
   "source": []
  },
  {
   "cell_type": "code",
   "execution_count": 49,
   "metadata": {
    "collapsed": false
   },
   "outputs": [
    {
     "data": {
      "text/plain": [
       "(16,\n",
       " [[3, 0, 0, 3, 0, 0],\n",
       "  [0, 3, 0, 0, 3, 0],\n",
       "  [3, 0, 3, 0, 3, 0],\n",
       "  [3, 3, 0, 3, 3, 0],\n",
       "  [2, 1, 1, 2, 1, 1],\n",
       "  [1, 2, 1, 1, 2, 1],\n",
       "  [2, 1, 2, 1, 2, 1],\n",
       "  [2, 2, 1, 2, 2, 1],\n",
       "  [1, 1, 2, 1, 1, 2],\n",
       "  [1, 2, 1, 2, 1, 2],\n",
       "  [2, 1, 2, 2, 1, 2],\n",
       "  [1, 2, 2, 1, 2, 2],\n",
       "  [0, 0, 3, 0, 0, 3],\n",
       "  [0, 3, 0, 3, 0, 3],\n",
       "  [3, 0, 3, 3, 0, 3],\n",
       "  [0, 3, 3, 0, 3, 3]])"
      ]
     },
     "execution_count": 49,
     "metadata": {},
     "output_type": "execute_result"
    }
   ],
   "source": [
    "l = finder(6) #6 es la length minima donde aparece el -1\n",
    "len(l), l"
   ]
  },
  {
   "cell_type": "code",
   "execution_count": 50,
   "metadata": {
    "collapsed": false
   },
   "outputs": [],
   "source": [
    "a8 = finder(8)   \n",
    "a_reduced_8 = nuevas_de_verdad(a8, 6)"
   ]
  },
  {
   "cell_type": "code",
   "execution_count": 27,
   "metadata": {
    "collapsed": false
   },
   "outputs": [
    {
     "data": {
      "text/plain": [
       "(32,\n",
       " [[2, 3, 0, 0, 3, 0, 0, 0],\n",
       "  [2, 3, 0, 3, 0, 3, 0, 0],\n",
       "  [2, 3, 3, 0, 3, 3, 0, 0],\n",
       "  [2, 2, 1, 1, 2, 1, 1, 0],\n",
       "  [2, 1, 2, 1, 1, 2, 1, 0],\n",
       "  [2, 2, 1, 2, 1, 2, 1, 0],\n",
       "  [2, 2, 2, 1, 2, 2, 1, 0],\n",
       "  [2, 3, 0, 3, 3, 0, 3, 0],\n",
       "  [3, 3, 0, 0, 3, 0, 0, 1],\n",
       "  [3, 0, 3, 0, 0, 3, 0, 1],\n",
       "  [3, 3, 0, 3, 0, 3, 0, 1],\n",
       "  [3, 3, 3, 0, 3, 3, 0, 1],\n",
       "  [3, 2, 1, 1, 2, 1, 1, 1],\n",
       "  [3, 2, 1, 2, 1, 2, 1, 1],\n",
       "  [3, 2, 2, 1, 2, 2, 1, 1],\n",
       "  [3, 2, 1, 2, 2, 1, 2, 1],\n",
       "  [0, 1, 2, 1, 1, 2, 1, 2],\n",
       "  [0, 1, 1, 2, 1, 1, 2, 2],\n",
       "  [0, 1, 2, 1, 2, 1, 2, 2],\n",
       "  [0, 1, 2, 2, 1, 2, 2, 2],\n",
       "  [0, 0, 0, 3, 0, 0, 3, 2],\n",
       "  [0, 0, 3, 0, 3, 0, 3, 2],\n",
       "  [0, 3, 0, 3, 3, 0, 3, 2],\n",
       "  [0, 0, 3, 3, 0, 3, 3, 2],\n",
       "  [1, 0, 3, 0, 0, 3, 0, 3],\n",
       "  [1, 1, 1, 2, 1, 1, 2, 3],\n",
       "  [1, 1, 2, 1, 2, 1, 2, 3],\n",
       "  [1, 2, 1, 2, 2, 1, 2, 3],\n",
       "  [1, 1, 2, 2, 1, 2, 2, 3],\n",
       "  [1, 0, 0, 3, 0, 0, 3, 3],\n",
       "  [1, 0, 3, 0, 3, 0, 3, 3],\n",
       "  [1, 0, 3, 3, 0, 3, 3, 3]])"
      ]
     },
     "execution_count": 27,
     "metadata": {},
     "output_type": "execute_result"
    }
   ],
   "source": [
    "# Investigando saca de a_reduced_8 las palabras que son conjugadas de un generador o de su inverso:\n",
    "# gen*algo*gen^-1\n",
    "# Resulta que 'algo' es las cosas bonitas de tamanio 6 que son -1 (los elementos de l)\n",
    "# Y que no es casualidad: gen*bonito*gen^-1 = gen*-1*gen^-1 = -1 xq -1 esta en el centro!\n",
    "\n",
    "investigando = []\n",
    "for word in a_reduced_8:\n",
    "    if (word[0] == 0 and word[-1] == 2) or (word[0] == 2 and word[-1] == 0):\n",
    "        investigando.append(word)\n",
    "    if (word[0] == 1 and word[-1] == 3) or (word[0] == 3 and word[-1] == 1):\n",
    "        investigando.append(word)\n",
    "len(investigando), investigando  "
   ]
  },
  {
   "cell_type": "code",
   "execution_count": 46,
   "metadata": {
    "collapsed": false
   },
   "outputs": [
    {
     "data": {
      "text/plain": [
       "32"
      ]
     },
     "execution_count": 46,
     "metadata": {},
     "output_type": "execute_result"
    }
   ],
   "source": [
    "# Aqui meto todas las demas (las que no son conjugadas)\n",
    "lasquequedan = [word for word in a_reduced_8 if word not in investigando]\n",
    "len(lasquequedan)"
   ]
  },
  {
   "cell_type": "code",
   "execution_count": 47,
   "metadata": {
    "collapsed": false
   },
   "outputs": [
    {
     "data": {
      "text/plain": [
       "[[0, 3, 0, 1, 0, 3, 0, 0],\n",
       " [0, 0, 3, 0, 1, 0, 3, 0],\n",
       " [1, 2, 1, 0, 1, 2, 1, 1],\n",
       " [1, 1, 2, 1, 0, 1, 2, 1],\n",
       " [2, 2, 1, 2, 3, 2, 1, 2],\n",
       " [2, 1, 2, 3, 2, 1, 2, 2],\n",
       " [3, 3, 0, 3, 2, 3, 0, 3],\n",
       " [3, 0, 3, 2, 3, 0, 3, 3]]"
      ]
     },
     "execution_count": 47,
     "metadata": {},
     "output_type": "execute_result"
    }
   ],
   "source": [
    "# De las que quedan, meto aqui las que empiezan y acaban por el mismo generador \n",
    "# (Son una cosa, y la misma cosa dada la vuelta!!)\n",
    "[word for word in lasquequedan if word[0] == word[-1]]"
   ]
  },
  {
   "cell_type": "code",
   "execution_count": 44,
   "metadata": {
    "collapsed": false
   },
   "outputs": [
    {
     "data": {
      "text/plain": [
       "[[0, 0, 0, 3, 0, 1, 0, 3],\n",
       " [0, 1, 0, 3, 0, 0, 0, 3],\n",
       " [0, 1, 2, 1, 1, 1, 2, 1],\n",
       " [0, 3, 0, 0, 0, 3, 0, 1],\n",
       " [0, 3, 2, 3, 0, 3, 3, 3],\n",
       " [0, 3, 3, 3, 0, 3, 2, 3],\n",
       " [1, 0, 1, 2, 1, 1, 1, 2],\n",
       " [1, 0, 3, 0, 0, 0, 3, 0],\n",
       " [1, 1, 1, 2, 1, 0, 1, 2],\n",
       " [1, 2, 1, 1, 1, 2, 1, 0],\n",
       " [1, 2, 2, 2, 1, 2, 3, 2],\n",
       " [1, 2, 3, 2, 1, 2, 2, 2],\n",
       " [2, 1, 0, 1, 2, 1, 1, 1],\n",
       " [2, 1, 1, 1, 2, 1, 0, 1],\n",
       " [2, 1, 2, 2, 2, 1, 2, 3],\n",
       " [2, 2, 2, 1, 2, 3, 2, 1],\n",
       " [2, 3, 0, 3, 3, 3, 0, 3],\n",
       " [2, 3, 2, 1, 2, 2, 2, 1],\n",
       " [3, 0, 0, 0, 3, 0, 1, 0],\n",
       " [3, 0, 1, 0, 3, 0, 0, 0],\n",
       " [3, 0, 3, 3, 3, 0, 3, 2],\n",
       " [3, 2, 1, 2, 2, 2, 1, 2],\n",
       " [3, 2, 3, 0, 3, 3, 3, 0],\n",
       " [3, 3, 3, 0, 3, 2, 3, 0]]"
      ]
     },
     "execution_count": 44,
     "metadata": {},
     "output_type": "execute_result"
    }
   ],
   "source": [
    "# Y aqui todo lo demas\n",
    "# Hay algunas que estan dadas la vuelta, y otras que mantienen los endpoints e invierten el orden de los 3 pares internos\n",
    "# Veanse los 2 primeros elementos\n",
    "#      0  00 30 10  3\n",
    "#      0  10 30 00  3\n",
    "sorted([word1 for word1 in lasquequedan if word1 not in [word for word in lasquequedan if word[0] == word[-1]]])        "
   ]
  },
  {
   "cell_type": "code",
   "execution_count": 52,
   "metadata": {
    "collapsed": true
   },
   "outputs": [],
   "source": [
    "a10 = finder(10)"
   ]
  },
  {
   "cell_type": "code",
   "execution_count": 57,
   "metadata": {
    "collapsed": false
   },
   "outputs": [
    {
     "data": {
      "text/plain": [
       "2712"
      ]
     },
     "execution_count": 57,
     "metadata": {},
     "output_type": "execute_result"
    }
   ],
   "source": [
    "a_reduced_10 = nuevas_de_verdad(a10, 6)\n",
    "len(a_reduced_10)"
   ]
  },
  {
   "cell_type": "code",
   "execution_count": 10,
   "metadata": {
    "collapsed": false
   },
   "outputs": [],
   "source": [
    "a11 = finder(11)"
   ]
  },
  {
   "cell_type": "code",
   "execution_count": 58,
   "metadata": {
    "collapsed": false
   },
   "outputs": [
    {
     "data": {
      "text/plain": [
       "(0, [])"
      ]
     },
     "execution_count": 58,
     "metadata": {},
     "output_type": "execute_result"
    }
   ],
   "source": [
    "a_reduced_11 = nuevas_de_verdad(a11, 6)\n",
    "len(a_reduced_11), a_reduced_11"
   ]
  },
  {
   "cell_type": "code",
   "execution_count": 13,
   "metadata": {
    "collapsed": false
   },
   "outputs": [],
   "source": [
    "a12 = finder(12)"
   ]
  },
  {
   "cell_type": "code",
   "execution_count": 60,
   "metadata": {
    "collapsed": false
   },
   "outputs": [
    {
     "data": {
      "text/plain": [
       "66880"
      ]
     },
     "execution_count": 60,
     "metadata": {},
     "output_type": "execute_result"
    }
   ],
   "source": [
    "a_reduced_12 = nuevas_de_verdad(a12, 6)\n",
    "len(a_reduced_12)"
   ]
  },
  {
   "cell_type": "code",
   "execution_count": 7,
   "metadata": {
    "collapsed": false
   },
   "outputs": [
    {
     "name": "stdout",
     "output_type": "stream",
     "text": [
      "[[ 1 -1]\n",
      " [ 1  0]] ['y', 'x^-1']\n",
      "[[ 1  1]\n",
      " [-1  0]] ['y^-1', 'x']\n",
      "[[ 2 -1]\n",
      " [ 1  0]] ['x', 'y', 'x^-1']\n",
      "[[ 2  1]\n",
      " [-1  0]] ['x^-1', 'y^-1', 'x']\n",
      "[[ 0  1]\n",
      " [-1  0]] ['x', 'y^-1', 'x']\n",
      "[[ 0 -1]\n",
      " [ 1  0]] ['y', 'x^-1', 'y']\n"
     ]
    }
   ],
   "source": [
    "\n",
    "goals = []\n",
    "goals.append(np.array(np.mat('1 -1; 1 0')))\n",
    "goals.append(np.array(np.mat('1 1; -1 0')))\n",
    "goals.append(np.array(np.mat('2 -1; 1 0')))\n",
    "goals.append(np.array(np.mat('2 1; -1 0')))\n",
    "goals.append(np.array(np.mat('0 1;-1  0')))\n",
    "goals.append(np.array(np.mat('0 -1;1  0')))\n",
    "for goal in goals:\n",
    "    res = []\n",
    "    length = 2\n",
    "    while not len(res):\n",
    "        res = finder(length, goal)\n",
    "        if len(res):\n",
    "            word = ['x' if i == 0 else 'y' if i == 1 else 'x^-1' if i == 2 else 'y^-1' for i in res[0]]\n",
    "            print goal, word\n",
    "        length += 1"
   ]
  },
  {
   "cell_type": "code",
   "execution_count": 2,
   "metadata": {
    "collapsed": true
   },
   "outputs": [],
   "source": [
    "res = []\n",
    "for i in range(10):\n",
    "    res.append(produce(i))"
   ]
  },
  {
   "cell_type": "code",
   "execution_count": 3,
   "metadata": {
    "collapsed": false
   },
   "outputs": [
    {
     "ename": "IndentationError",
     "evalue": "expected an indented block (<ipython-input-3-c83095986e07>, line 4)",
     "output_type": "error",
     "traceback": [
      "\u001b[0;36m  File \u001b[0;32m\"<ipython-input-3-c83095986e07>\"\u001b[0;36m, line \u001b[0;32m4\u001b[0m\n\u001b[0;31m    #print mat[0], '\\n', mat[1], '\\n'\u001b[0m\n\u001b[0m                                     ^\u001b[0m\n\u001b[0;31mIndentationError\u001b[0m\u001b[0;31m:\u001b[0m expected an indented block\n"
     ]
    }
   ],
   "source": [
    "for result in res:\n",
    "    for mat in result:\n",
    "        \n",
    "        #print mat[0], '\\n', mat[1], '\\n'"
   ]
  },
  {
   "cell_type": "code",
   "execution_count": 18,
   "metadata": {
    "collapsed": false
   },
   "outputs": [
    {
     "data": {
      "text/plain": [
       "(1365, 1398101)"
      ]
     },
     "execution_count": 18,
     "metadata": {},
     "output_type": "execute_result"
    }
   ],
   "source": [
    "len(res1), len(res2)"
   ]
  },
  {
   "cell_type": "code",
   "execution_count": 2,
   "metadata": {
    "collapsed": false
   },
   "outputs": [],
   "source": [
    "res1 = []\n",
    "res2 = []\n",
    "for i in range(7):\n",
    "    aux = produce(i)\n",
    "    for mat in aux:\n",
    "        res1.append(mat)\n",
    "for i in range(10):\n",
    "    for mat in aux:\n",
    "        res2.append(mat)\n"
   ]
  },
  {
   "cell_type": "code",
   "execution_count": 6,
   "metadata": {
    "collapsed": true
   },
   "outputs": [],
   "source": [
    "aux = produce(i, gens = M)\n",
    "\n",
    "not_free = []\n",
    "for mat in res2:\n",
    "    if not_in(mat, res1):\n",
    "        not_free.append(mat)"
   ]
  },
  {
   "cell_type": "code",
   "execution_count": 3,
   "metadata": {
    "collapsed": false
   },
   "outputs": [
    {
     "name": "stdout",
     "output_type": "stream",
     "text": [
      "9424\n",
      "253\n"
     ]
    }
   ],
   "source": [
    "res1 = elim_dups(res1)\n",
    "\n",
    "contraejs = []\n",
    "for mat in res2:\n",
    "    if is_odd(mat[0][0]) and is_odd(mat[1][1]) and is_even(mat[1][0]) and is_even(mat[0][1]) and not_in(mat, res1):\n",
    "        contraejs.append(mat)\n",
    "\n",
    "print len(contraejs)\n",
    "contraejs = elim_dups(contraejs)\n",
    "print len(contraejs)"
   ]
  },
  {
   "cell_type": "code",
   "execution_count": null,
   "metadata": {
    "collapsed": true
   },
   "outputs": [],
   "source": [
    "# Aniadimos las palabras de longitud 11\n",
    "aux = produce(11, gens = M)\n"
   ]
  },
  {
   "cell_type": "code",
   "execution_count": null,
   "metadata": {
    "collapsed": false
   },
   "outputs": [],
   "source": [
    "\n",
    "for mat in aux:\n",
    "    if is_odd(mat[0][0]) and is_odd(mat[1][1]) and is_even(mat[1][0]) and is_even(mat[0][1]) and not_in(mat, res1) and not_in(mat, contraejs):\n",
    "        contraejs.append(mat)\n",
    "    if not_in(mat , res2):\n",
    "        res2.append(mat)\n"
   ]
  },
  {
   "cell_type": "code",
   "execution_count": 4,
   "metadata": {
    "collapsed": false
   },
   "outputs": [
    {
     "name": "stdout",
     "output_type": "stream",
     "text": [
      "[3 4] \n",
      "[2 3] \n",
      "\n",
      "[-1 -2] \n",
      "[2 3] \n",
      "\n",
      "[-1  0] \n",
      "[-2 -1] \n",
      "\n",
      "[3 2] \n",
      "[-2 -1] \n",
      "\n",
      "[3 2] \n",
      "[4 3] \n",
      "\n",
      "[-1 -2] \n",
      "[ 0 -1] \n",
      "\n",
      "[ 3 -2] \n",
      "[ 2 -1] \n",
      "\n",
      "[-1  0] \n",
      "[ 2 -1] \n",
      "\n",
      "[-1  2] \n",
      "[-2  3] \n",
      "\n",
      "[ 3 -4] \n",
      "[-2  3] \n",
      "\n"
     ]
    }
   ],
   "source": [
    "for mat in contraejs[:10]:\n",
    "    print mat[0], '\\n', mat[1], '\\n'"
   ]
  },
  {
   "cell_type": "code",
   "execution_count": 7,
   "metadata": {
    "collapsed": false,
    "scrolled": true
   },
   "outputs": [
    {
     "name": "stdout",
     "output_type": "stream",
     "text": [
      "485\n",
      "[1 0] \n",
      "[0 1] \n",
      "\n",
      "[1 2] \n",
      "[0 1] \n",
      "\n",
      "[1 0] \n",
      "[2 1] \n",
      "\n",
      "[ 1 -2] \n",
      "[0 1] \n",
      "\n",
      "[1 0] \n",
      "[-2  1] \n",
      "\n",
      "[1 4] \n",
      "[0 1] \n",
      "\n",
      "[1 2] \n",
      "[2 5] \n",
      "\n",
      "[1 2] \n",
      "[-2 -3] \n",
      "\n",
      "[5 2] \n",
      "[2 1] \n",
      "\n",
      "[1 0] \n",
      "[4 1] \n",
      "\n"
     ]
    }
   ],
   "source": [
    "print len(res1)\n",
    "for mat in res1[:10]:\n",
    "    w, v = LA.eig(mat)\n",
    "    print mat[0], '\\n', mat[1], '\\n'"
   ]
  },
  {
   "cell_type": "code",
   "execution_count": 4,
   "metadata": {
    "collapsed": false
   },
   "outputs": [],
   "source": [
    "def mod(lst, modulo):\n",
    "    return [elem%modulo for elem in lst]\n",
    "\n",
    "f = open('matrices4', 'w')\n",
    "string = ''\n",
    "for mat in res1:\n",
    "    #string += str(mat[0]) + '\\t\\t\\t' + str(mod(mat[0], 3)) + '\\t\\t\\t' + str(mod(mat[0], 4)) + '\\t\\t\\t' + str(mod(mat[0], 5)) + '\\n'\n",
    "    #string += str(mat[1]) + '\\t\\t\\t' + str(mod(mat[1], 3)) + '\\t\\t\\t' + str(mod(mat[1], 4)) + '\\t\\t\\t' + str(mod(mat[1], 5)) + '\\n'\n",
    "    if 3 in mod(mat[0], 4) or 3 in mod(mat[1], 4):\n",
    "        print 'Eres idiota'\n",
    "    string += str(mod(mat[0], 4)) + '\\t\\t\\t' + str(mat[0]) + '\\n'\n",
    "    string += str(mod(mat[1], 4)) + '\\t\\t\\t' + str(mat[1]) + '\\n\\n'\n",
    "\n",
    "f.write(string)\n",
    "f.close()\n",
    "\n",
    "# Parece q si eres libre, no puedes ser 3 modulo 4!\n",
    "\n",
    "f = open('contraejs4', 'w')\n",
    "string = ''\n",
    "for mat in contraejs:\n",
    "    string += str(mod(mat[0], 4)) + '\\t\\t\\t' + str(mat[0]) + '\\n'\n",
    "    string += str(mod(mat[1], 4)) + '\\t\\t\\t' + str(mat[1]) + '\\n\\n'\n",
    "\n",
    "f.write(string)\n",
    "f.close()\n",
    "\n",
    "# No es suficiente.\n",
    "# Lloro un pelin na mas\n",
    "# A lo mejor si q es suficiente! \n",
    "# No entiendo muy bien xq, pero mirando libres de longitud 6, pa mi q estaba\n",
    "# mirando matrices de longitud 12 y por tanto ya habia cubierto las de \n",
    "# longitud 10, pero parece q no.\n",
    "# Las normales de longitud 10 que no tenian ningun 3 en su modulo y no estaban\n",
    "# dentro de las libres de longitud 6, si estan dentro de las libres\n",
    "# de longitud 7. wtf"
   ]
  },
  {
   "cell_type": "code",
   "execution_count": 16,
   "metadata": {
    "collapsed": false
   },
   "outputs": [],
   "source": [
    "def mod(lst, modulo):\n",
    "    return [elem%modulo for elem in lst]\n",
    "def mi_forma_bonita(mat):\n",
    "    boolean = (mat[0][0]%4 == 1) and (mat[1][1]%4 == 1)\n",
    "    boolean = boolean and (mat[0][1]%2 == 0) and (mat[1][0]%2 == 0)\n",
    "    return boolean\n",
    "\n",
    "f = open('libres_mod_4', 'w')\n",
    "string = ''\n",
    "for mat in res1:\n",
    "    #string += str(mat[0]) + '\\t\\t\\t' + str(mod(mat[0], 3)) + '\\t\\t\\t' + str(mod(mat[0], 4)) + '\\t\\t\\t' + str(mod(mat[0], 5)) + '\\n'\n",
    "    #string += str(mat[1]) + '\\t\\t\\t' + str(mod(mat[1], 3)) + '\\t\\t\\t' + str(mod(mat[1], 4)) + '\\t\\t\\t' + str(mod(mat[1], 5)) + '\\n'\n",
    "    if mi_forma_bonita(mat) == False:\n",
    "        print 'Eres idiota2'\n",
    "    string += str(mod(mat[0], 4)) + '\\t\\t\\t' + str(mat[0]) + '\\n'\n",
    "    string += str(mod(mat[1], 4)) + '\\t\\t\\t' + str(mat[1]) + '\\n\\n'\n",
    "\n",
    "f.write(string)\n",
    "f.close()\n",
    "\n",
    "# Parece q si eres libre, no puedes ser 3 modulo 4!\n",
    "\n",
    "f = open('no_libres_mod_4', 'w')\n",
    "string = ''\n",
    "for mat in not_free:\n",
    "    if mi_forma_bonita(mat) == True:\n",
    "        print 'Eres idiota'\n",
    "    string += str(mod(mat[0], 4)) + '\\t\\t\\t' + str(mat[0]) + '\\n'\n",
    "    string += str(mod(mat[1], 4)) + '\\t\\t\\t' + str(mat[1]) + '\\n\\n'\n",
    "\n",
    "f.write(string)\n",
    "f.close()\n",
    "\n",
    "# No es suficiente.\n",
    "# Lloro un pelin na mas\n",
    "# A lo mejor si q es suficiente! \n",
    "# No entiendo muy bien xq, pero mirando libres de longitud 6, pa mi q estaba\n",
    "# mirando matrices de longitud 12 y por tanto ya habia cubierto las de \n",
    "# longitud 10, pero parece q no.\n",
    "# Las normales de longitud 10 que no tenian ningun 3 en su modulo y no estaban\n",
    "# dentro de las libres de longitud 6, si estan dentro de las libres\n",
    "# de longitud 7. wtf"
   ]
  },
  {
   "cell_type": "code",
   "execution_count": 39,
   "metadata": {
    "collapsed": false
   },
   "outputs": [],
   "source": [
    "# Si con modulos 2 y 4 van bien, a lo mejor el 8 sirve de algo, pero yo q se.\n",
    "# Desde luego, las libres me van a salir no son ni 3 ni 7, ¿pero las otras?\n",
    "\n",
    "f = open('matrices8', 'w')\n",
    "string = ''\n",
    "for mat in res1:\n",
    "    string += str(mod(mat[0], 8)) + '\\t\\t\\t' + str(mat[0]) + '\\n'\n",
    "    string += str(mod(mat[1], 8)) + '\\t\\t\\t' + str(mat[1]) + '\\n\\n'\n",
    "\n",
    "f.write(string)\n",
    "f.close()\n",
    "\n",
    "f = open('contraejs8', 'w')\n",
    "string = ''\n",
    "for mat in contraejs:\n",
    "    string += str(mod(mat[0], 8)) + '\\t\\t\\t' + str(mat[0]) + '\\n'\n",
    "    string += str(mod(mat[1], 8)) + '\\t\\t\\t' + str(mat[1]) + '\\n\\n'\n",
    "        \n",
    "f.write(string)\n",
    "f.close()\n",
    "\n",
    "# Pues no, no sirve de na D:"
   ]
  },
  {
   "cell_type": "code",
   "execution_count": null,
   "metadata": {
    "collapsed": true
   },
   "outputs": [],
   "source": []
  },
  {
   "cell_type": "code",
   "execution_count": null,
   "metadata": {
    "collapsed": true
   },
   "outputs": [],
   "source": []
  }
 ],
 "metadata": {
  "kernelspec": {
   "display_name": "SageMath 7.5.1",
   "language": "",
   "name": "sagemath"
  },
  "language_info": {
   "codemirror_mode": {
    "name": "ipython",
    "version": 2
   },
   "file_extension": ".py",
   "mimetype": "text/x-python",
   "name": "python",
   "nbconvert_exporter": "python",
   "pygments_lexer": "ipython2",
   "version": "2.7.13"
  }
 },
 "nbformat": 4,
 "nbformat_minor": 0
}
